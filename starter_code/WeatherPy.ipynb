{
 "cells": [
  {
   "cell_type": "markdown",
   "metadata": {},
   "source": [
    "# WeatherPy\n",
    "----\n",
    "\n",
    "#### Note\n",
    "* Instructions have been included for each segment. You do not have to follow them exactly, but they are included to help you think through the steps."
   ]
  },
  {
   "cell_type": "code",
   "execution_count": 1,
   "metadata": {},
   "outputs": [
    {
     "name": "stdout",
     "output_type": "stream",
     "text": [
      "Requirement already satisfied: citipy in c:\\users\\smith\\anaconda3\\lib\\site-packages (0.0.5)\n",
      "Requirement already satisfied: kdtree>=0.12 in c:\\users\\smith\\anaconda3\\lib\\site-packages (from citipy) (0.16)\n",
      "Note: you may need to restart the kernel to use updated packages.\n"
     ]
    }
   ],
   "source": [
    "pip install citipy"
   ]
  },
  {
   "cell_type": "code",
   "execution_count": 12,
   "metadata": {
    "scrolled": true
   },
   "outputs": [],
   "source": [
    "# Dependencies and Setup\n",
    "import matplotlib.pyplot as plt\n",
    "import pandas as pd\n",
    "import numpy as np\n",
    "import requests\n",
    "import time\n",
    "import json\n",
    "from scipy.stats import linregress\n",
    "\n",
    "# Import API key\n",
    "from api_keys import weather_api_key\n",
    "\n",
    "# Incorporated citipy to determine city based on latitude and longitude\n",
    "from citipy import citipy\n",
    "\n",
    "# Output File (CSV)\n",
    "output_data_file = \"../output_data/cities.csv\"\n",
    "\n",
    "# Range of latitudes and longitudes\n",
    "lat_range = (-90, 90)\n",
    "lng_range = (-180, 180)"
   ]
  },
  {
   "cell_type": "code",
   "execution_count": 3,
   "metadata": {},
   "outputs": [],
   "source": [
    "url = \"http://api.openweathermap.org/data/2.5/weather?\"\n",
    "units = \"imperial\"\n",
    "\n",
    "# Build partial query URL\n",
    "query_url = f\"{url}appid={weather_api_key}&units={units}&q=\""
   ]
  },
  {
   "cell_type": "markdown",
   "metadata": {},
   "source": [
    "## Generate Cities List"
   ]
  },
  {
   "cell_type": "code",
   "execution_count": 4,
   "metadata": {},
   "outputs": [
    {
     "data": {
      "text/plain": [
       "598"
      ]
     },
     "execution_count": 4,
     "metadata": {},
     "output_type": "execute_result"
    }
   ],
   "source": [
    "# List for holding lat_lngs and cities\n",
    "lat_lngs = []\n",
    "cities = []\n",
    "\n",
    "# Create a set of random lat and lng combinations\n",
    "lats = np.random.uniform(lat_range[0], lat_range[1], size=1500)\n",
    "lngs = np.random.uniform(lng_range[0], lng_range[1], size=1500)\n",
    "lat_lngs = zip(lats, lngs)\n",
    "\n",
    "# Identify nearest city for each lat, lng combination\n",
    "for lat_lng in lat_lngs:\n",
    "    city = citipy.nearest_city(lat_lng[0], lat_lng[1]).city_name\n",
    "    \n",
    "    # If the city is unique, then add it to a our cities list\n",
    "    if city not in cities:\n",
    "        cities.append(city)\n",
    "\n",
    "# Print the city count to confirm sufficient count\n",
    "len(cities)"
   ]
  },
  {
   "cell_type": "code",
   "execution_count": 5,
   "metadata": {},
   "outputs": [
    {
     "data": {
      "text/html": [
       "<div>\n",
       "<style scoped>\n",
       "    .dataframe tbody tr th:only-of-type {\n",
       "        vertical-align: middle;\n",
       "    }\n",
       "\n",
       "    .dataframe tbody tr th {\n",
       "        vertical-align: top;\n",
       "    }\n",
       "\n",
       "    .dataframe thead th {\n",
       "        text-align: right;\n",
       "    }\n",
       "</style>\n",
       "<table border=\"1\" class=\"dataframe\">\n",
       "  <thead>\n",
       "    <tr style=\"text-align: right;\">\n",
       "      <th></th>\n",
       "      <th>0</th>\n",
       "    </tr>\n",
       "  </thead>\n",
       "  <tbody>\n",
       "    <tr>\n",
       "      <th>0</th>\n",
       "      <td>chokurdakh</td>\n",
       "    </tr>\n",
       "    <tr>\n",
       "      <th>1</th>\n",
       "      <td>reconquista</td>\n",
       "    </tr>\n",
       "    <tr>\n",
       "      <th>2</th>\n",
       "      <td>new norfolk</td>\n",
       "    </tr>\n",
       "    <tr>\n",
       "      <th>3</th>\n",
       "      <td>honiara</td>\n",
       "    </tr>\n",
       "    <tr>\n",
       "      <th>4</th>\n",
       "      <td>rikitea</td>\n",
       "    </tr>\n",
       "    <tr>\n",
       "      <th>...</th>\n",
       "      <td>...</td>\n",
       "    </tr>\n",
       "    <tr>\n",
       "      <th>593</th>\n",
       "      <td>naruja</td>\n",
       "    </tr>\n",
       "    <tr>\n",
       "      <th>594</th>\n",
       "      <td>swan hill</td>\n",
       "    </tr>\n",
       "    <tr>\n",
       "      <th>595</th>\n",
       "      <td>port moresby</td>\n",
       "    </tr>\n",
       "    <tr>\n",
       "      <th>596</th>\n",
       "      <td>cabinda</td>\n",
       "    </tr>\n",
       "    <tr>\n",
       "      <th>597</th>\n",
       "      <td>tilichiki</td>\n",
       "    </tr>\n",
       "  </tbody>\n",
       "</table>\n",
       "<p>598 rows × 1 columns</p>\n",
       "</div>"
      ],
      "text/plain": [
       "                0\n",
       "0      chokurdakh\n",
       "1     reconquista\n",
       "2     new norfolk\n",
       "3         honiara\n",
       "4         rikitea\n",
       "..            ...\n",
       "593        naruja\n",
       "594     swan hill\n",
       "595  port moresby\n",
       "596       cabinda\n",
       "597     tilichiki\n",
       "\n",
       "[598 rows x 1 columns]"
      ]
     },
     "execution_count": 5,
     "metadata": {},
     "output_type": "execute_result"
    }
   ],
   "source": [
    "cities_df = pd.DataFrame(cities)\n",
    "cities_df"
   ]
  },
  {
   "cell_type": "code",
   "execution_count": 6,
   "metadata": {},
   "outputs": [],
   "source": [
    "cities_df['City ID'] = \"\"\n",
    "cities_df['Latitude'] = \"\"\n",
    "cities_df['Longitude'] = \"\"\n",
    "cities_df['Temperature (F)'] = \"\"\n",
    "cities_df['Humidity %'] = \"\"\n",
    "cities_df['Cloudiness %'] = \"\"\n",
    "cities_df['Wind Speed (mph)'] = \"\"\n",
    "cities_df['City Country'] = \"\"\n",
    "cities_df['City Time'] = \"\""
   ]
  },
  {
   "cell_type": "code",
   "execution_count": null,
   "metadata": {},
   "outputs": [],
   "source": []
  },
  {
   "cell_type": "code",
   "execution_count": 7,
   "metadata": {},
   "outputs": [
    {
     "data": {
      "text/plain": [
       "{'coord': {'lon': -50.01, 'lat': -24.79},\n",
       " 'weather': [{'id': 804,\n",
       "   'main': 'Clouds',\n",
       "   'description': 'overcast clouds',\n",
       "   'icon': '04n'}],\n",
       " 'base': 'stations',\n",
       " 'main': {'temp': 59.61,\n",
       "  'feels_like': 59.79,\n",
       "  'temp_min': 59.61,\n",
       "  'temp_max': 59.61,\n",
       "  'pressure': 1012,\n",
       "  'humidity': 96,\n",
       "  'sea_level': 1012,\n",
       "  'grnd_level': 901},\n",
       " 'visibility': 10000,\n",
       " 'wind': {'speed': 4.52, 'deg': 319},\n",
       " 'clouds': {'all': 100},\n",
       " 'dt': 1597643326,\n",
       " 'sys': {'country': 'BR', 'sunrise': 1597657519, 'sunset': 1597698180},\n",
       " 'timezone': -10800,\n",
       " 'id': 3466704,\n",
       " 'name': 'Castro',\n",
       " 'cod': 200}"
      ]
     },
     "execution_count": 7,
     "metadata": {},
     "output_type": "execute_result"
    }
   ],
   "source": [
    "response = requests.get(query_url+\"castro\").json()\n",
    "response\n"
   ]
  },
  {
   "cell_type": "markdown",
   "metadata": {},
   "source": [
    "### Perform API Calls\n",
    "* Perform a weather check on each city using a series of successive API calls.\n",
    "* Include a print log of each city as it'sbeing processed (with the city number and city name).\n"
   ]
  },
  {
   "cell_type": "code",
   "execution_count": 8,
   "metadata": {},
   "outputs": [
    {
     "data": {
      "text/plain": [
       "0        chokurdakh\n",
       "1       reconquista\n",
       "2       new norfolk\n",
       "3           honiara\n",
       "4           rikitea\n",
       "           ...     \n",
       "593          naruja\n",
       "594       swan hill\n",
       "595    port moresby\n",
       "596         cabinda\n",
       "597       tilichiki\n",
       "Name: 0, Length: 598, dtype: object"
      ]
     },
     "execution_count": 8,
     "metadata": {},
     "output_type": "execute_result"
    }
   ],
   "source": [
    "city = cities_df[0]\n",
    "city"
   ]
  },
  {
   "cell_type": "code",
   "execution_count": 9,
   "metadata": {},
   "outputs": [
    {
     "name": "stdout",
     "output_type": "stream",
     "text": [
      "Missing field/result... skipping.\n",
      "Missing field/result... skipping.\n",
      "Missing field/result... skipping.\n",
      "Missing field/result... skipping.\n",
      "Missing field/result... skipping.\n",
      "Missing field/result... skipping.\n",
      "Missing field/result... skipping.\n",
      "Missing field/result... skipping.\n",
      "Missing field/result... skipping.\n",
      "Missing field/result... skipping.\n",
      "Missing field/result... skipping.\n",
      "Missing field/result... skipping.\n",
      "Missing field/result... skipping.\n",
      "Missing field/result... skipping.\n",
      "Missing field/result... skipping.\n",
      "Missing field/result... skipping.\n",
      "Missing field/result... skipping.\n",
      "Missing field/result... skipping.\n",
      "Missing field/result... skipping.\n",
      "Missing field/result... skipping.\n",
      "Missing field/result... skipping.\n",
      "Missing field/result... skipping.\n",
      "Missing field/result... skipping.\n",
      "Missing field/result... skipping.\n",
      "Missing field/result... skipping.\n",
      "Missing field/result... skipping.\n",
      "Missing field/result... skipping.\n",
      "Missing field/result... skipping.\n",
      "Missing field/result... skipping.\n",
      "Missing field/result... skipping.\n",
      "Missing field/result... skipping.\n",
      "Missing field/result... skipping.\n",
      "Missing field/result... skipping.\n",
      "Missing field/result... skipping.\n",
      "Missing field/result... skipping.\n",
      "Missing field/result... skipping.\n",
      "Missing field/result... skipping.\n",
      "Missing field/result... skipping.\n",
      "Missing field/result... skipping.\n",
      "Missing field/result... skipping.\n",
      "Missing field/result... skipping.\n",
      "Missing field/result... skipping.\n",
      "Missing field/result... skipping.\n",
      "Missing field/result... skipping.\n",
      "Missing field/result... skipping.\n",
      "Missing field/result... skipping.\n",
      "Missing field/result... skipping.\n",
      "Missing field/result... skipping.\n",
      "Missing field/result... skipping.\n",
      "Missing field/result... skipping.\n",
      "Missing field/result... skipping.\n",
      "Missing field/result... skipping.\n",
      "Missing field/result... skipping.\n"
     ]
    }
   ],
   "source": [
    "for index, row in cities_df.iterrows():\n",
    "    city = cities_df.loc[index, 0]\n",
    "    \n",
    "    response = requests.get(query_url + city).json()\n",
    "  \n",
    "        \n",
    "    try:        \n",
    "        cities_df.loc[index, 'City ID'] = response['id']\n",
    "        cities_df.loc[index, 'Latitude'] = response['coord']['lat']\n",
    "        cities_df.loc[index, 'Longitude'] = response['coord']['lon']\n",
    "        cities_df.loc[index, 'Temperature (F)'] = response['main']['temp']\n",
    "        cities_df.loc[index, 'Humidity %'] = response['main']['humidity']\n",
    "        cities_df.loc[index, 'Cloudiness %'] = response['clouds']['all']\n",
    "        cities_df.loc[index, 'Wind Speed (mph)'] = response['wind']['speed']\n",
    "        cities_df.loc[index, 'City Country'] = response['sys']['country']\n",
    "        cities_df.loc[index, 'City Time'] = response['dt']\n",
    "        \n",
    "    except (KeyError, IndexError):\n",
    "        print(\"Missing field/result... skipping.\")\n",
    "        \n",
    "  \n",
    "        "
   ]
  },
  {
   "cell_type": "code",
   "execution_count": null,
   "metadata": {},
   "outputs": [],
   "source": [
    "\n"
   ]
  },
  {
   "cell_type": "markdown",
   "metadata": {},
   "source": [
    "### Convert Raw Data to DataFrame\n",
    "* Export the city data into a .csv.\n",
    "* Display the DataFrame"
   ]
  },
  {
   "cell_type": "code",
   "execution_count": 10,
   "metadata": {},
   "outputs": [
    {
     "data": {
      "text/html": [
       "<div>\n",
       "<style scoped>\n",
       "    .dataframe tbody tr th:only-of-type {\n",
       "        vertical-align: middle;\n",
       "    }\n",
       "\n",
       "    .dataframe tbody tr th {\n",
       "        vertical-align: top;\n",
       "    }\n",
       "\n",
       "    .dataframe thead th {\n",
       "        text-align: right;\n",
       "    }\n",
       "</style>\n",
       "<table border=\"1\" class=\"dataframe\">\n",
       "  <thead>\n",
       "    <tr style=\"text-align: right;\">\n",
       "      <th></th>\n",
       "      <th>City</th>\n",
       "      <th>City ID</th>\n",
       "      <th>Latitude</th>\n",
       "      <th>Longitude</th>\n",
       "      <th>Temperature (F)</th>\n",
       "      <th>Humidity %</th>\n",
       "      <th>Cloudiness %</th>\n",
       "      <th>Wind Speed (mph)</th>\n",
       "      <th>City Country</th>\n",
       "      <th>City Time</th>\n",
       "    </tr>\n",
       "  </thead>\n",
       "  <tbody>\n",
       "    <tr>\n",
       "      <th>0</th>\n",
       "      <td>chokurdakh</td>\n",
       "      <td>2126123</td>\n",
       "      <td>70.63</td>\n",
       "      <td>147.92</td>\n",
       "      <td>42.49</td>\n",
       "      <td>83</td>\n",
       "      <td>100</td>\n",
       "      <td>11.07</td>\n",
       "      <td>RU</td>\n",
       "      <td>1597643372</td>\n",
       "    </tr>\n",
       "    <tr>\n",
       "      <th>1</th>\n",
       "      <td>reconquista</td>\n",
       "      <td>3429594</td>\n",
       "      <td>-29.15</td>\n",
       "      <td>-59.65</td>\n",
       "      <td>46.87</td>\n",
       "      <td>60</td>\n",
       "      <td>0</td>\n",
       "      <td>4.76</td>\n",
       "      <td>AR</td>\n",
       "      <td>1597643607</td>\n",
       "    </tr>\n",
       "    <tr>\n",
       "      <th>2</th>\n",
       "      <td>new norfolk</td>\n",
       "      <td>2155415</td>\n",
       "      <td>-42.78</td>\n",
       "      <td>147.06</td>\n",
       "      <td>55.44</td>\n",
       "      <td>82</td>\n",
       "      <td>79</td>\n",
       "      <td>1.23</td>\n",
       "      <td>AU</td>\n",
       "      <td>1597643334</td>\n",
       "    </tr>\n",
       "    <tr>\n",
       "      <th>3</th>\n",
       "      <td>honiara</td>\n",
       "      <td>2108502</td>\n",
       "      <td>-9.43</td>\n",
       "      <td>159.95</td>\n",
       "      <td>86</td>\n",
       "      <td>74</td>\n",
       "      <td>40</td>\n",
       "      <td>6.93</td>\n",
       "      <td>SB</td>\n",
       "      <td>1597643466</td>\n",
       "    </tr>\n",
       "    <tr>\n",
       "      <th>4</th>\n",
       "      <td>rikitea</td>\n",
       "      <td>4030556</td>\n",
       "      <td>-23.12</td>\n",
       "      <td>-134.97</td>\n",
       "      <td>70.59</td>\n",
       "      <td>77</td>\n",
       "      <td>2</td>\n",
       "      <td>12.35</td>\n",
       "      <td>PF</td>\n",
       "      <td>1597643328</td>\n",
       "    </tr>\n",
       "    <tr>\n",
       "      <th>...</th>\n",
       "      <td>...</td>\n",
       "      <td>...</td>\n",
       "      <td>...</td>\n",
       "      <td>...</td>\n",
       "      <td>...</td>\n",
       "      <td>...</td>\n",
       "      <td>...</td>\n",
       "      <td>...</td>\n",
       "      <td>...</td>\n",
       "      <td>...</td>\n",
       "    </tr>\n",
       "    <tr>\n",
       "      <th>593</th>\n",
       "      <td>naruja</td>\n",
       "      <td>824385</td>\n",
       "      <td>41.91</td>\n",
       "      <td>41.95</td>\n",
       "      <td>74.35</td>\n",
       "      <td>64</td>\n",
       "      <td>20</td>\n",
       "      <td>6.93</td>\n",
       "      <td>GE</td>\n",
       "      <td>1597643735</td>\n",
       "    </tr>\n",
       "    <tr>\n",
       "      <th>594</th>\n",
       "      <td>swan hill</td>\n",
       "      <td>2147756</td>\n",
       "      <td>-35.34</td>\n",
       "      <td>143.55</td>\n",
       "      <td>60.44</td>\n",
       "      <td>56</td>\n",
       "      <td>28</td>\n",
       "      <td>9.51</td>\n",
       "      <td>AU</td>\n",
       "      <td>1597643735</td>\n",
       "    </tr>\n",
       "    <tr>\n",
       "      <th>595</th>\n",
       "      <td>port moresby</td>\n",
       "      <td>2088122</td>\n",
       "      <td>-9.44</td>\n",
       "      <td>147.18</td>\n",
       "      <td>84.2</td>\n",
       "      <td>62</td>\n",
       "      <td>5</td>\n",
       "      <td>23.04</td>\n",
       "      <td>PG</td>\n",
       "      <td>1597643735</td>\n",
       "    </tr>\n",
       "    <tr>\n",
       "      <th>596</th>\n",
       "      <td>cabinda</td>\n",
       "      <td>2243271</td>\n",
       "      <td>-5.55</td>\n",
       "      <td>12.2</td>\n",
       "      <td>75.2</td>\n",
       "      <td>88</td>\n",
       "      <td>75</td>\n",
       "      <td>7.43</td>\n",
       "      <td>AO</td>\n",
       "      <td>1597643736</td>\n",
       "    </tr>\n",
       "    <tr>\n",
       "      <th>597</th>\n",
       "      <td>tilichiki</td>\n",
       "      <td>2120591</td>\n",
       "      <td>60.47</td>\n",
       "      <td>166.1</td>\n",
       "      <td>61.32</td>\n",
       "      <td>55</td>\n",
       "      <td>56</td>\n",
       "      <td>14.97</td>\n",
       "      <td>RU</td>\n",
       "      <td>1597643385</td>\n",
       "    </tr>\n",
       "  </tbody>\n",
       "</table>\n",
       "<p>598 rows × 10 columns</p>\n",
       "</div>"
      ],
      "text/plain": [
       "             City  City ID Latitude Longitude Temperature (F) Humidity %  \\\n",
       "0      chokurdakh  2126123    70.63    147.92           42.49         83   \n",
       "1     reconquista  3429594   -29.15    -59.65           46.87         60   \n",
       "2     new norfolk  2155415   -42.78    147.06           55.44         82   \n",
       "3         honiara  2108502    -9.43    159.95              86         74   \n",
       "4         rikitea  4030556   -23.12   -134.97           70.59         77   \n",
       "..            ...      ...      ...       ...             ...        ...   \n",
       "593        naruja   824385    41.91     41.95           74.35         64   \n",
       "594     swan hill  2147756   -35.34    143.55           60.44         56   \n",
       "595  port moresby  2088122    -9.44    147.18            84.2         62   \n",
       "596       cabinda  2243271    -5.55      12.2            75.2         88   \n",
       "597     tilichiki  2120591    60.47     166.1           61.32         55   \n",
       "\n",
       "    Cloudiness % Wind Speed (mph) City Country   City Time  \n",
       "0            100            11.07           RU  1597643372  \n",
       "1              0             4.76           AR  1597643607  \n",
       "2             79             1.23           AU  1597643334  \n",
       "3             40             6.93           SB  1597643466  \n",
       "4              2            12.35           PF  1597643328  \n",
       "..           ...              ...          ...         ...  \n",
       "593           20             6.93           GE  1597643735  \n",
       "594           28             9.51           AU  1597643735  \n",
       "595            5            23.04           PG  1597643735  \n",
       "596           75             7.43           AO  1597643736  \n",
       "597           56            14.97           RU  1597643385  \n",
       "\n",
       "[598 rows x 10 columns]"
      ]
     },
     "execution_count": 10,
     "metadata": {},
     "output_type": "execute_result"
    }
   ],
   "source": [
    "cities_df = cities_df.rename(columns={0:\"City\"})\n",
    "cities_df = cities_df.dropna()\n",
    "cities_df"
   ]
  },
  {
   "cell_type": "code",
   "execution_count": 13,
   "metadata": {},
   "outputs": [],
   "source": [
    "cities_df.to_csv(output_data_file)"
   ]
  },
  {
   "cell_type": "markdown",
   "metadata": {},
   "source": [
    "## Inspect the data and remove the cities where the humidity > 100%.\n",
    "----\n",
    "Skip this step if there are no cities that have humidity > 100%. "
   ]
  },
  {
   "cell_type": "code",
   "execution_count": 14,
   "metadata": {},
   "outputs": [],
   "source": [
    "cities_df[\"Humidity %\"] = pd.to_numeric(cities_df[\"Humidity %\"], errors='coerce')"
   ]
  },
  {
   "cell_type": "code",
   "execution_count": 15,
   "metadata": {},
   "outputs": [
    {
     "data": {
      "text/html": [
       "<div>\n",
       "<style scoped>\n",
       "    .dataframe tbody tr th:only-of-type {\n",
       "        vertical-align: middle;\n",
       "    }\n",
       "\n",
       "    .dataframe tbody tr th {\n",
       "        vertical-align: top;\n",
       "    }\n",
       "\n",
       "    .dataframe thead th {\n",
       "        text-align: right;\n",
       "    }\n",
       "</style>\n",
       "<table border=\"1\" class=\"dataframe\">\n",
       "  <thead>\n",
       "    <tr style=\"text-align: right;\">\n",
       "      <th></th>\n",
       "      <th>City</th>\n",
       "      <th>City ID</th>\n",
       "      <th>Latitude</th>\n",
       "      <th>Longitude</th>\n",
       "      <th>Temperature (F)</th>\n",
       "      <th>Humidity %</th>\n",
       "      <th>Cloudiness %</th>\n",
       "      <th>Wind Speed (mph)</th>\n",
       "      <th>City Country</th>\n",
       "      <th>City Time</th>\n",
       "    </tr>\n",
       "  </thead>\n",
       "  <tbody>\n",
       "  </tbody>\n",
       "</table>\n",
       "</div>"
      ],
      "text/plain": [
       "Empty DataFrame\n",
       "Columns: [City, City ID, Latitude, Longitude, Temperature (F), Humidity %, Cloudiness %, Wind Speed (mph), City Country, City Time]\n",
       "Index: []"
      ]
     },
     "execution_count": 15,
     "metadata": {},
     "output_type": "execute_result"
    }
   ],
   "source": [
    "high_humid = cities_df.loc[cities_df[\"Humidity %\"] > 100]\n",
    "\n",
    "high_humid"
   ]
  },
  {
   "cell_type": "code",
   "execution_count": 16,
   "metadata": {},
   "outputs": [],
   "source": [
    "#  Get the indices of cities that have humidity over 100%.\n"
   ]
  },
  {
   "cell_type": "code",
   "execution_count": 17,
   "metadata": {},
   "outputs": [],
   "source": [
    "# Make a new DataFrame equal to the city data to drop all humidity outliers by index.\n",
    "# Passing \"inplace=False\" will make a copy of the city_data DataFrame, which we call \"clean_city_data\".\n"
   ]
  },
  {
   "cell_type": "code",
   "execution_count": 18,
   "metadata": {},
   "outputs": [],
   "source": [
    "# Extract relevant fields from the data frame\n",
    "\n",
    "\n",
    "# Export the City_Data into a csv\n"
   ]
  },
  {
   "cell_type": "markdown",
   "metadata": {},
   "source": [
    "## Plotting the Data\n",
    "* Use proper labeling of the plots using plot titles (including date of analysis) and axes labels.\n",
    "* Save the plotted figures as .pngs."
   ]
  },
  {
   "cell_type": "markdown",
   "metadata": {},
   "source": [
    "## Latitude vs. Temperature Plot"
   ]
  },
  {
   "cell_type": "code",
   "execution_count": 19,
   "metadata": {
    "scrolled": true
   },
   "outputs": [
    {
     "data": {
      "text/plain": [
       "<matplotlib.collections.PathCollection at 0x254036c61c8>"
      ]
     },
     "execution_count": 19,
     "metadata": {},
     "output_type": "execute_result"
    },
    {
     "data": {
      "image/png": "[encoded data removed]",
      "text/plain": [
       "<Figure size 432x288 with 1 Axes>"
      ]
     },
     "metadata": {
      "needs_background": "light"
     },
     "output_type": "display_data"
    }
   ],
   "source": [
    "\n",
    "plt.xlabel('Latitude')\n",
    "plt.ylabel('Temperature (F)')\n",
    " \n",
    "\n",
    "plt.scatter(pd.to_numeric(cities_df[\"Latitude\"]),pd.to_numeric(cities_df[\"Temperature (F)\"]))\n"
   ]
  },
  {
   "cell_type": "code",
   "execution_count": 20,
   "metadata": {},
   "outputs": [],
   "source": [
    "#This plot shows that cities closer to the Equator (or at a Latitiude of 0) have a higher temperature."
   ]
  },
  {
   "cell_type": "markdown",
   "metadata": {},
   "source": [
    "## Latitude vs. Humidity Plot"
   ]
  },
  {
   "cell_type": "code",
   "execution_count": 21,
   "metadata": {},
   "outputs": [
    {
     "data": {
      "text/plain": [
       "<matplotlib.collections.PathCollection at 0x2540376c448>"
      ]
     },
     "execution_count": 21,
     "metadata": {},
     "output_type": "execute_result"
    },
    {
     "data": {
      "image/png": "[encoded data removed]",
      "text/plain": [
       "<Figure size 432x288 with 1 Axes>"
      ]
     },
     "metadata": {
      "needs_background": "light"
     },
     "output_type": "display_data"
    }
   ],
   "source": [
    "plt.xlabel('Latitude')\n",
    "plt.ylabel('Humidity %')\n",
    "plt.scatter(pd.to_numeric(cities_df[\"Latitude\"]),pd.to_numeric(cities_df[\"Humidity %\"]))"
   ]
  },
  {
   "cell_type": "code",
   "execution_count": null,
   "metadata": {},
   "outputs": [],
   "source": []
  },
  {
   "cell_type": "markdown",
   "metadata": {},
   "source": [
    "## Latitude vs. Cloudiness Plot"
   ]
  },
  {
   "cell_type": "code",
   "execution_count": 22,
   "metadata": {},
   "outputs": [
    {
     "data": {
      "text/plain": [
       "<matplotlib.collections.PathCollection at 0x254037a0688>"
      ]
     },
     "execution_count": 22,
     "metadata": {},
     "output_type": "execute_result"
    },
    {
     "data": {
      "image/png": "[encoded data removed]",
      "text/plain": [
       "<Figure size 432x288 with 1 Axes>"
      ]
     },
     "metadata": {
      "needs_background": "light"
     },
     "output_type": "display_data"
    }
   ],
   "source": [
    "plt.xlabel('Latitude')\n",
    "plt.ylabel('Cloudiness %')\n",
    "plt.scatter(pd.to_numeric(cities_df[\"Latitude\"]),pd.to_numeric(cities_df[\"Cloudiness %\"]))"
   ]
  },
  {
   "cell_type": "markdown",
   "metadata": {},
   "source": [
    "## Latitude vs. Wind Speed Plot"
   ]
  },
  {
   "cell_type": "code",
   "execution_count": 23,
   "metadata": {},
   "outputs": [
    {
     "data": {
      "text/plain": [
       "<matplotlib.collections.PathCollection at 0x254038412c8>"
      ]
     },
     "execution_count": 23,
     "metadata": {},
     "output_type": "execute_result"
    },
    {
     "data": {
      "image/png": "[encoded data removed]",
      "text/plain": [
       "<Figure size 432x288 with 1 Axes>"
      ]
     },
     "metadata": {
      "needs_background": "light"
     },
     "output_type": "display_data"
    }
   ],
   "source": [
    "plt.xlabel('Latitude')\n",
    "plt.ylabel('Wind Speed (mph)')\n",
    "plt.scatter(pd.to_numeric(cities_df[\"Latitude\"]),pd.to_numeric(cities_df[\"Wind Speed (mph)\"]))"
   ]
  },
  {
   "cell_type": "markdown",
   "metadata": {},
   "source": [
    "## Linear Regression"
   ]
  },
  {
   "cell_type": "code",
   "execution_count": 24,
   "metadata": {},
   "outputs": [],
   "source": [
    "# OPTIONAL: Create a function to create Linear Regression plots"
   ]
  },
  {
   "cell_type": "code",
   "execution_count": 25,
   "metadata": {},
   "outputs": [
    {
     "data": {
      "text/html": [
       "<div>\n",
       "<style scoped>\n",
       "    .dataframe tbody tr th:only-of-type {\n",
       "        vertical-align: middle;\n",
       "    }\n",
       "\n",
       "    .dataframe tbody tr th {\n",
       "        vertical-align: top;\n",
       "    }\n",
       "\n",
       "    .dataframe thead th {\n",
       "        text-align: right;\n",
       "    }\n",
       "</style>\n",
       "<table border=\"1\" class=\"dataframe\">\n",
       "  <thead>\n",
       "    <tr style=\"text-align: right;\">\n",
       "      <th></th>\n",
       "      <th>City</th>\n",
       "      <th>City ID</th>\n",
       "      <th>Latitude</th>\n",
       "      <th>Longitude</th>\n",
       "      <th>Temperature (F)</th>\n",
       "      <th>Humidity %</th>\n",
       "      <th>Cloudiness %</th>\n",
       "      <th>Wind Speed (mph)</th>\n",
       "      <th>City Country</th>\n",
       "      <th>City Time</th>\n",
       "    </tr>\n",
       "  </thead>\n",
       "  <tbody>\n",
       "    <tr>\n",
       "      <th>0</th>\n",
       "      <td>chokurdakh</td>\n",
       "      <td>2126123</td>\n",
       "      <td>70.63</td>\n",
       "      <td>147.92</td>\n",
       "      <td>42.49</td>\n",
       "      <td>83.0</td>\n",
       "      <td>100</td>\n",
       "      <td>11.07</td>\n",
       "      <td>RU</td>\n",
       "      <td>1597643372</td>\n",
       "    </tr>\n",
       "    <tr>\n",
       "      <th>6</th>\n",
       "      <td>fortuna</td>\n",
       "      <td>5563839</td>\n",
       "      <td>40.6</td>\n",
       "      <td>-124.16</td>\n",
       "      <td>59.31</td>\n",
       "      <td>91.0</td>\n",
       "      <td>87</td>\n",
       "      <td>2.33</td>\n",
       "      <td>US</td>\n",
       "      <td>1597643349</td>\n",
       "    </tr>\n",
       "    <tr>\n",
       "      <th>8</th>\n",
       "      <td>great yarmouth</td>\n",
       "      <td>2647984</td>\n",
       "      <td>52.61</td>\n",
       "      <td>1.73</td>\n",
       "      <td>63.01</td>\n",
       "      <td>97.0</td>\n",
       "      <td>67</td>\n",
       "      <td>3.87</td>\n",
       "      <td>GB</td>\n",
       "      <td>1597643346</td>\n",
       "    </tr>\n",
       "    <tr>\n",
       "      <th>9</th>\n",
       "      <td>butaritari</td>\n",
       "      <td>2110227</td>\n",
       "      <td>3.07</td>\n",
       "      <td>172.79</td>\n",
       "      <td>81.81</td>\n",
       "      <td>61.0</td>\n",
       "      <td>14</td>\n",
       "      <td>0.11</td>\n",
       "      <td>KI</td>\n",
       "      <td>1597643354</td>\n",
       "    </tr>\n",
       "    <tr>\n",
       "      <th>10</th>\n",
       "      <td>flin flon</td>\n",
       "      <td>5954718</td>\n",
       "      <td>54.77</td>\n",
       "      <td>-101.86</td>\n",
       "      <td>52.11</td>\n",
       "      <td>74.0</td>\n",
       "      <td>69</td>\n",
       "      <td>4.32</td>\n",
       "      <td>CA</td>\n",
       "      <td>1597643609</td>\n",
       "    </tr>\n",
       "    <tr>\n",
       "      <th>...</th>\n",
       "      <td>...</td>\n",
       "      <td>...</td>\n",
       "      <td>...</td>\n",
       "      <td>...</td>\n",
       "      <td>...</td>\n",
       "      <td>...</td>\n",
       "      <td>...</td>\n",
       "      <td>...</td>\n",
       "      <td>...</td>\n",
       "      <td>...</td>\n",
       "    </tr>\n",
       "    <tr>\n",
       "      <th>589</th>\n",
       "      <td>panama city</td>\n",
       "      <td>3703443</td>\n",
       "      <td>8.99</td>\n",
       "      <td>-79.52</td>\n",
       "      <td>78.03</td>\n",
       "      <td>94.0</td>\n",
       "      <td>100</td>\n",
       "      <td>4.7</td>\n",
       "      <td>PA</td>\n",
       "      <td>1597643657</td>\n",
       "    </tr>\n",
       "    <tr>\n",
       "      <th>590</th>\n",
       "      <td>abonnema</td>\n",
       "      <td>2324433</td>\n",
       "      <td>4.71</td>\n",
       "      <td>6.79</td>\n",
       "      <td>73.4</td>\n",
       "      <td>100.0</td>\n",
       "      <td>75</td>\n",
       "      <td>4.83</td>\n",
       "      <td>NG</td>\n",
       "      <td>1597643734</td>\n",
       "    </tr>\n",
       "    <tr>\n",
       "      <th>592</th>\n",
       "      <td>requena</td>\n",
       "      <td>2511930</td>\n",
       "      <td>39.49</td>\n",
       "      <td>-1.1</td>\n",
       "      <td>57</td>\n",
       "      <td>62.0</td>\n",
       "      <td>0</td>\n",
       "      <td>4.83</td>\n",
       "      <td>ES</td>\n",
       "      <td>1597643735</td>\n",
       "    </tr>\n",
       "    <tr>\n",
       "      <th>593</th>\n",
       "      <td>naruja</td>\n",
       "      <td>824385</td>\n",
       "      <td>41.91</td>\n",
       "      <td>41.95</td>\n",
       "      <td>74.35</td>\n",
       "      <td>64.0</td>\n",
       "      <td>20</td>\n",
       "      <td>6.93</td>\n",
       "      <td>GE</td>\n",
       "      <td>1597643735</td>\n",
       "    </tr>\n",
       "    <tr>\n",
       "      <th>597</th>\n",
       "      <td>tilichiki</td>\n",
       "      <td>2120591</td>\n",
       "      <td>60.47</td>\n",
       "      <td>166.1</td>\n",
       "      <td>61.32</td>\n",
       "      <td>55.0</td>\n",
       "      <td>56</td>\n",
       "      <td>14.97</td>\n",
       "      <td>RU</td>\n",
       "      <td>1597643385</td>\n",
       "    </tr>\n",
       "  </tbody>\n",
       "</table>\n",
       "<p>366 rows × 10 columns</p>\n",
       "</div>"
      ],
      "text/plain": [
       "               City  City ID Latitude Longitude Temperature (F)  Humidity %  \\\n",
       "0        chokurdakh  2126123    70.63    147.92           42.49        83.0   \n",
       "6           fortuna  5563839     40.6   -124.16           59.31        91.0   \n",
       "8    great yarmouth  2647984    52.61      1.73           63.01        97.0   \n",
       "9        butaritari  2110227     3.07    172.79           81.81        61.0   \n",
       "10        flin flon  5954718    54.77   -101.86           52.11        74.0   \n",
       "..              ...      ...      ...       ...             ...         ...   \n",
       "589     panama city  3703443     8.99    -79.52           78.03        94.0   \n",
       "590        abonnema  2324433     4.71      6.79            73.4       100.0   \n",
       "592         requena  2511930    39.49      -1.1              57        62.0   \n",
       "593          naruja   824385    41.91     41.95           74.35        64.0   \n",
       "597       tilichiki  2120591    60.47     166.1           61.32        55.0   \n",
       "\n",
       "    Cloudiness % Wind Speed (mph) City Country   City Time  \n",
       "0            100            11.07           RU  1597643372  \n",
       "6             87             2.33           US  1597643349  \n",
       "8             67             3.87           GB  1597643346  \n",
       "9             14             0.11           KI  1597643354  \n",
       "10            69             4.32           CA  1597643609  \n",
       "..           ...              ...          ...         ...  \n",
       "589          100              4.7           PA  1597643657  \n",
       "590           75             4.83           NG  1597643734  \n",
       "592            0             4.83           ES  1597643735  \n",
       "593           20             6.93           GE  1597643735  \n",
       "597           56            14.97           RU  1597643385  \n",
       "\n",
       "[366 rows x 10 columns]"
      ]
     },
     "execution_count": 25,
     "metadata": {},
     "output_type": "execute_result"
    }
   ],
   "source": [
    "# Create Northern and Southern Hemisphere DataFrames\n",
    "\n",
    "northern_df = cities_df[pd.to_numeric(cities_df[\"Latitude\"])>0]\n",
    "northern_df"
   ]
  },
  {
   "cell_type": "code",
   "execution_count": 26,
   "metadata": {},
   "outputs": [
    {
     "data": {
      "text/html": [
       "<div>\n",
       "<style scoped>\n",
       "    .dataframe tbody tr th:only-of-type {\n",
       "        vertical-align: middle;\n",
       "    }\n",
       "\n",
       "    .dataframe tbody tr th {\n",
       "        vertical-align: top;\n",
       "    }\n",
       "\n",
       "    .dataframe thead th {\n",
       "        text-align: right;\n",
       "    }\n",
       "</style>\n",
       "<table border=\"1\" class=\"dataframe\">\n",
       "  <thead>\n",
       "    <tr style=\"text-align: right;\">\n",
       "      <th></th>\n",
       "      <th>City</th>\n",
       "      <th>City ID</th>\n",
       "      <th>Latitude</th>\n",
       "      <th>Longitude</th>\n",
       "      <th>Temperature (F)</th>\n",
       "      <th>Humidity %</th>\n",
       "      <th>Cloudiness %</th>\n",
       "      <th>Wind Speed (mph)</th>\n",
       "      <th>City Country</th>\n",
       "      <th>City Time</th>\n",
       "    </tr>\n",
       "  </thead>\n",
       "  <tbody>\n",
       "    <tr>\n",
       "      <th>1</th>\n",
       "      <td>reconquista</td>\n",
       "      <td>3429594</td>\n",
       "      <td>-29.15</td>\n",
       "      <td>-59.65</td>\n",
       "      <td>46.87</td>\n",
       "      <td>60.0</td>\n",
       "      <td>0</td>\n",
       "      <td>4.76</td>\n",
       "      <td>AR</td>\n",
       "      <td>1597643607</td>\n",
       "    </tr>\n",
       "    <tr>\n",
       "      <th>2</th>\n",
       "      <td>new norfolk</td>\n",
       "      <td>2155415</td>\n",
       "      <td>-42.78</td>\n",
       "      <td>147.06</td>\n",
       "      <td>55.44</td>\n",
       "      <td>82.0</td>\n",
       "      <td>79</td>\n",
       "      <td>1.23</td>\n",
       "      <td>AU</td>\n",
       "      <td>1597643334</td>\n",
       "    </tr>\n",
       "    <tr>\n",
       "      <th>3</th>\n",
       "      <td>honiara</td>\n",
       "      <td>2108502</td>\n",
       "      <td>-9.43</td>\n",
       "      <td>159.95</td>\n",
       "      <td>86</td>\n",
       "      <td>74.0</td>\n",
       "      <td>40</td>\n",
       "      <td>6.93</td>\n",
       "      <td>SB</td>\n",
       "      <td>1597643466</td>\n",
       "    </tr>\n",
       "    <tr>\n",
       "      <th>4</th>\n",
       "      <td>rikitea</td>\n",
       "      <td>4030556</td>\n",
       "      <td>-23.12</td>\n",
       "      <td>-134.97</td>\n",
       "      <td>70.59</td>\n",
       "      <td>77.0</td>\n",
       "      <td>2</td>\n",
       "      <td>12.35</td>\n",
       "      <td>PF</td>\n",
       "      <td>1597643328</td>\n",
       "    </tr>\n",
       "    <tr>\n",
       "      <th>7</th>\n",
       "      <td>bengkulu</td>\n",
       "      <td>1649150</td>\n",
       "      <td>-3.8</td>\n",
       "      <td>102.27</td>\n",
       "      <td>85.73</td>\n",
       "      <td>67.0</td>\n",
       "      <td>6</td>\n",
       "      <td>12.37</td>\n",
       "      <td>ID</td>\n",
       "      <td>1597643129</td>\n",
       "    </tr>\n",
       "    <tr>\n",
       "      <th>...</th>\n",
       "      <td>...</td>\n",
       "      <td>...</td>\n",
       "      <td>...</td>\n",
       "      <td>...</td>\n",
       "      <td>...</td>\n",
       "      <td>...</td>\n",
       "      <td>...</td>\n",
       "      <td>...</td>\n",
       "      <td>...</td>\n",
       "      <td>...</td>\n",
       "    </tr>\n",
       "    <tr>\n",
       "      <th>588</th>\n",
       "      <td>kiunga</td>\n",
       "      <td>2093846</td>\n",
       "      <td>-6.12</td>\n",
       "      <td>141.29</td>\n",
       "      <td>84.67</td>\n",
       "      <td>64.0</td>\n",
       "      <td>92</td>\n",
       "      <td>1.72</td>\n",
       "      <td>PG</td>\n",
       "      <td>1597643734</td>\n",
       "    </tr>\n",
       "    <tr>\n",
       "      <th>591</th>\n",
       "      <td>hualmay</td>\n",
       "      <td>3939761</td>\n",
       "      <td>-11.1</td>\n",
       "      <td>-77.61</td>\n",
       "      <td>58.57</td>\n",
       "      <td>83.0</td>\n",
       "      <td>70</td>\n",
       "      <td>8.72</td>\n",
       "      <td>PE</td>\n",
       "      <td>1597643583</td>\n",
       "    </tr>\n",
       "    <tr>\n",
       "      <th>594</th>\n",
       "      <td>swan hill</td>\n",
       "      <td>2147756</td>\n",
       "      <td>-35.34</td>\n",
       "      <td>143.55</td>\n",
       "      <td>60.44</td>\n",
       "      <td>56.0</td>\n",
       "      <td>28</td>\n",
       "      <td>9.51</td>\n",
       "      <td>AU</td>\n",
       "      <td>1597643735</td>\n",
       "    </tr>\n",
       "    <tr>\n",
       "      <th>595</th>\n",
       "      <td>port moresby</td>\n",
       "      <td>2088122</td>\n",
       "      <td>-9.44</td>\n",
       "      <td>147.18</td>\n",
       "      <td>84.2</td>\n",
       "      <td>62.0</td>\n",
       "      <td>5</td>\n",
       "      <td>23.04</td>\n",
       "      <td>PG</td>\n",
       "      <td>1597643735</td>\n",
       "    </tr>\n",
       "    <tr>\n",
       "      <th>596</th>\n",
       "      <td>cabinda</td>\n",
       "      <td>2243271</td>\n",
       "      <td>-5.55</td>\n",
       "      <td>12.2</td>\n",
       "      <td>75.2</td>\n",
       "      <td>88.0</td>\n",
       "      <td>75</td>\n",
       "      <td>7.43</td>\n",
       "      <td>AO</td>\n",
       "      <td>1597643736</td>\n",
       "    </tr>\n",
       "  </tbody>\n",
       "</table>\n",
       "<p>179 rows × 10 columns</p>\n",
       "</div>"
      ],
      "text/plain": [
       "             City  City ID Latitude Longitude Temperature (F)  Humidity %  \\\n",
       "1     reconquista  3429594   -29.15    -59.65           46.87        60.0   \n",
       "2     new norfolk  2155415   -42.78    147.06           55.44        82.0   \n",
       "3         honiara  2108502    -9.43    159.95              86        74.0   \n",
       "4         rikitea  4030556   -23.12   -134.97           70.59        77.0   \n",
       "7        bengkulu  1649150     -3.8    102.27           85.73        67.0   \n",
       "..            ...      ...      ...       ...             ...         ...   \n",
       "588        kiunga  2093846    -6.12    141.29           84.67        64.0   \n",
       "591       hualmay  3939761    -11.1    -77.61           58.57        83.0   \n",
       "594     swan hill  2147756   -35.34    143.55           60.44        56.0   \n",
       "595  port moresby  2088122    -9.44    147.18            84.2        62.0   \n",
       "596       cabinda  2243271    -5.55      12.2            75.2        88.0   \n",
       "\n",
       "    Cloudiness % Wind Speed (mph) City Country   City Time  \n",
       "1              0             4.76           AR  1597643607  \n",
       "2             79             1.23           AU  1597643334  \n",
       "3             40             6.93           SB  1597643466  \n",
       "4              2            12.35           PF  1597643328  \n",
       "7              6            12.37           ID  1597643129  \n",
       "..           ...              ...          ...         ...  \n",
       "588           92             1.72           PG  1597643734  \n",
       "591           70             8.72           PE  1597643583  \n",
       "594           28             9.51           AU  1597643735  \n",
       "595            5            23.04           PG  1597643735  \n",
       "596           75             7.43           AO  1597643736  \n",
       "\n",
       "[179 rows x 10 columns]"
      ]
     },
     "execution_count": 26,
     "metadata": {},
     "output_type": "execute_result"
    }
   ],
   "source": [
    "southern_df = cities_df[pd.to_numeric(cities_df[\"Latitude\"])<0]\n",
    "southern_df"
   ]
  },
  {
   "cell_type": "markdown",
   "metadata": {},
   "source": [
    "####  Northern Hemisphere - Max Temp vs. Latitude Linear Regression"
   ]
  },
  {
   "cell_type": "code",
   "execution_count": 32,
   "metadata": {},
   "outputs": [
    {
     "data": {
      "image/png": "[encoded data removed]",
      "text/plain": [
       "<Figure size 432x288 with 1 Axes>"
      ]
     },
     "metadata": {
      "needs_background": "light"
     },
     "output_type": "display_data"
    }
   ],
   "source": [
    "x_values = northern_df['Latitude']\n",
    "y_values = northern_df['Temperature (F)']\n",
    "(slope, intercept, rvalue, pvalue, stderr) = linregress(x_values.astype(float), y_values.astype(float))\n",
    "regress_values = x_values * slope + intercept\n",
    "line_eq = \"y = \" + str(round(slope,2)) + \"x + \" + str(round(intercept,2))\n",
    "plt.plot(x_values,regress_values,\"r-\")\n",
    "plt.annotate(line_eq,(6,10),fontsize=15,color=\"red\")\n",
    "plt.xlabel('Latitude')\n",
    "plt.ylabel('Temperature (F)')\n",
    "plt.scatter(x_values,y_values)\n",
    "plt.show()"
   ]
  },
  {
   "cell_type": "markdown",
   "metadata": {},
   "source": [
    "####  Southern Hemisphere - Max Temp vs. Latitude Linear Regression"
   ]
  },
  {
   "cell_type": "code",
   "execution_count": 33,
   "metadata": {},
   "outputs": [
    {
     "data": {
      "image/png": "[encoded data removed]",
      "text/plain": [
       "<Figure size 432x288 with 1 Axes>"
      ]
     },
     "metadata": {
      "needs_background": "light"
     },
     "output_type": "display_data"
    }
   ],
   "source": [
    "x_values = southern_df['Latitude']\n",
    "y_values = southern_df['Temperature (F)']\n",
    "(slope, intercept, rvalue, pvalue, stderr) = linregress(x_values.astype(float), y_values.astype(float))\n",
    "regress_values = x_values * slope + intercept\n",
    "line_eq = \"y = \" + str(round(slope,2)) + \"x + \" + str(round(intercept,2))\n",
    "plt.plot(x_values,regress_values,\"r-\")\n",
    "plt.annotate(line_eq,(6,10),fontsize=15,color=\"red\")\n",
    "plt.xlabel('Latitude')\n",
    "plt.ylabel('Temperature (F)')\n",
    "plt.scatter(x_values,y_values)\n",
    "plt.show()"
   ]
  },
  {
   "cell_type": "markdown",
   "metadata": {},
   "source": [
    "####  Northern Hemisphere - Humidity (%) vs. Latitude Linear Regression"
   ]
  },
  {
   "cell_type": "code",
   "execution_count": 34,
   "metadata": {},
   "outputs": [
    {
     "data": {
      "image/png": "[encoded data removed]",
      "text/plain": [
       "<Figure size 432x288 with 1 Axes>"
      ]
     },
     "metadata": {
      "needs_background": "light"
     },
     "output_type": "display_data"
    }
   ],
   "source": [
    "x_values = northern_df['Latitude']\n",
    "y_values = northern_df['Humidity %']\n",
    "(slope, intercept, rvalue, pvalue, stderr) = linregress(x_values.astype(float), y_values.astype(float))\n",
    "regress_values = x_values * slope + intercept\n",
    "line_eq = \"y = \" + str(round(slope,2)) + \"x + \" + str(round(intercept,2))\n",
    "plt.plot(x_values,regress_values,\"r-\")\n",
    "plt.annotate(line_eq,(6,10),fontsize=15,color=\"red\")\n",
    "plt.xlabel('Latitude')\n",
    "plt.ylabel('Humidity %')\n",
    "plt.scatter(x_values,y_values)\n",
    "plt.show()"
   ]
  },
  {
   "cell_type": "markdown",
   "metadata": {},
   "source": [
    "####  Southern Hemisphere - Humidity (%) vs. Latitude Linear Regression"
   ]
  },
  {
   "cell_type": "code",
   "execution_count": 37,
   "metadata": {},
   "outputs": [
    {
     "data": {
      "image/png": "[encoded data removed]",
      "text/plain": [
       "<Figure size 432x288 with 1 Axes>"
      ]
     },
     "metadata": {
      "needs_background": "light"
     },
     "output_type": "display_data"
    }
   ],
   "source": [
    "x_values = southern_df['Latitude']\n",
    "y_values = southern_df['Humidity %']\n",
    "(slope, intercept, rvalue, pvalue, stderr) = linregress(x_values.astype(float), y_values.astype(float))\n",
    "regress_values = x_values * slope + intercept\n",
    "line_eq = \"y = \" + str(round(slope,2)) + \"x + \" + str(round(intercept,2))\n",
    "plt.plot(x_values,regress_values,\"r-\")\n",
    "plt.annotate(line_eq,(6,10),fontsize=15,color=\"red\")\n",
    "plt.xlabel('Latitude')\n",
    "plt.ylabel('Humidity %')\n",
    "plt.scatter(x_values,y_values)\n",
    "plt.show()"
   ]
  },
  {
   "cell_type": "markdown",
   "metadata": {},
   "source": [
    "####  Northern Hemisphere - Cloudiness (%) vs. Latitude Linear Regression"
   ]
  },
  {
   "cell_type": "code",
   "execution_count": 38,
   "metadata": {},
   "outputs": [
    {
     "data": {
      "image/png": "[encoded data removed]",
      "text/plain": [
       "<Figure size 432x288 with 1 Axes>"
      ]
     },
     "metadata": {
      "needs_background": "light"
     },
     "output_type": "display_data"
    }
   ],
   "source": [
    "x_values = northern_df['Latitude']\n",
    "y_values = northern_df['Cloudiness %']\n",
    "(slope, intercept, rvalue, pvalue, stderr) = linregress(x_values.astype(float), y_values.astype(float))\n",
    "regress_values = x_values * slope + intercept\n",
    "line_eq = \"y = \" + str(round(slope,2)) + \"x + \" + str(round(intercept,2))\n",
    "plt.plot(x_values,regress_values,\"r-\")\n",
    "plt.annotate(line_eq,(6,10),fontsize=15,color=\"red\")\n",
    "plt.xlabel('Latitude')\n",
    "plt.ylabel('Cloudiness %')\n",
    "plt.scatter(x_values,y_values)\n",
    "plt.show()"
   ]
  },
  {
   "cell_type": "markdown",
   "metadata": {},
   "source": [
    "####  Southern Hemisphere - Cloudiness (%) vs. Latitude Linear Regression"
   ]
  },
  {
   "cell_type": "code",
   "execution_count": 39,
   "metadata": {},
   "outputs": [
    {
     "data": {
      "image/png": "[encoded data removed]",
      "text/plain": [
       "<Figure size 432x288 with 1 Axes>"
      ]
     },
     "metadata": {
      "needs_background": "light"
     },
     "output_type": "display_data"
    }
   ],
   "source": [
    "x_values = southern_df['Latitude']\n",
    "y_values = southern_df['Cloudiness %']\n",
    "(slope, intercept, rvalue, pvalue, stderr) = linregress(x_values.astype(float), y_values.astype(float))\n",
    "regress_values = x_values * slope + intercept\n",
    "line_eq = \"y = \" + str(round(slope,2)) + \"x + \" + str(round(intercept,2))\n",
    "plt.plot(x_values,regress_values,\"r-\")\n",
    "plt.annotate(line_eq,(6,10),fontsize=15,color=\"red\")\n",
    "plt.xlabel('Latitude')\n",
    "plt.ylabel('Cloudiness %')\n",
    "plt.scatter(x_values,y_values)\n",
    "plt.show()"
   ]
  },
  {
   "cell_type": "markdown",
   "metadata": {},
   "source": [
    "####  Northern Hemisphere - Wind Speed (mph) vs. Latitude Linear Regression"
   ]
  },
  {
   "cell_type": "code",
   "execution_count": 40,
   "metadata": {},
   "outputs": [
    {
     "data": {
      "image/png": "[encoded data removed]",
      "text/plain": [
       "<Figure size 432x288 with 1 Axes>"
      ]
     },
     "metadata": {
      "needs_background": "light"
     },
     "output_type": "display_data"
    }
   ],
   "source": [
    "x_values = northern_df['Latitude']\n",
    "y_values = northern_df['Wind Speed (mph)']\n",
    "(slope, intercept, rvalue, pvalue, stderr) = linregress(x_values.astype(float), y_values.astype(float))\n",
    "regress_values = x_values * slope + intercept\n",
    "line_eq = \"y = \" + str(round(slope,2)) + \"x + \" + str(round(intercept,2))\n",
    "plt.plot(x_values,regress_values,\"r-\")\n",
    "plt.annotate(line_eq,(6,10),fontsize=15,color=\"red\")\n",
    "plt.xlabel('Latitude')\n",
    "plt.ylabel('Wind Speed (mph)')\n",
    "plt.scatter(x_values,y_values)\n",
    "plt.show()"
   ]
  },
  {
   "cell_type": "markdown",
   "metadata": {},
   "source": [
    "####  Southern Hemisphere - Wind Speed (mph) vs. Latitude Linear Regression"
   ]
  },
  {
   "cell_type": "code",
   "execution_count": 41,
   "metadata": {},
   "outputs": [
    {
     "data": {
      "image/png": "[encoded data removed]",
      "text/plain": [
       "<Figure size 432x288 with 1 Axes>"
      ]
     },
     "metadata": {
      "needs_background": "light"
     },
     "output_type": "display_data"
    }
   ],
   "source": [
    "x_values = southern_df['Latitude']\n",
    "y_values = southern_df['Wind Speed (mph)']\n",
    "(slope, intercept, rvalue, pvalue, stderr) = linregress(x_values.astype(float), y_values.astype(float))\n",
    "regress_values = x_values * slope + intercept\n",
    "line_eq = \"y = \" + str(round(slope,2)) + \"x + \" + str(round(intercept,2))\n",
    "plt.plot(x_values,regress_values,\"r-\")\n",
    "plt.annotate(line_eq,(6,10),fontsize=15,color=\"red\")\n",
    "plt.xlabel('Latitude')\n",
    "plt.ylabel('Wind Speed (mph)')\n",
    "plt.scatter(x_values,y_values)\n",
    "plt.show()"
   ]
  },
  {
   "cell_type": "code",
   "execution_count": null,
   "metadata": {},
   "outputs": [],
   "source": []
  }
 ],
 "metadata": {
  "anaconda-cloud": {},
  "kernel_info": {
   "name": "python3"
  },
  "kernelspec": {
   "display_name": "Python 3",
   "language": "python",
   "name": "python3"
  },
  "language_info": {
   "codemirror_mode": {
    "name": "ipython",
    "version": 3
   },
   "file_extension": ".py",
   "mimetype": "text/x-python",
   "name": "python",
   "nbconvert_exporter": "python",
   "pygments_lexer": "ipython3",
   "version": "3.7.6"
  },
  "latex_envs": {
   "LaTeX_envs_menu_present": true,
   "autoclose": false,
   "autocomplete": true,
   "bibliofile": "biblio.bib",
   "cite_by": "apalike",
   "current_citInitial": 1,
   "eqLabelWithNumbers": true,
   "eqNumInitial": 1,
   "hotkeys": {
    "equation": "Ctrl-E",
    "itemize": "Ctrl-I"
   },
   "labels_anchors": false,
   "latex_user_defs": false,
   "report_style_numbering": false,
   "user_envs_cfg": false
  },
  "nteract": {
   "version": "0.12.3"
  }
 },
 "nbformat": 4,
 "nbformat_minor": 2
}
